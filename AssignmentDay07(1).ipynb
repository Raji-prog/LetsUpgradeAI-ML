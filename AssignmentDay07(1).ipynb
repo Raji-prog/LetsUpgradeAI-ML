{
 "cells": [
  {
   "cell_type": "markdown",
   "metadata": {},
   "source": [
    "Question 1:\n",
    "Write a program to copy the contents of one file to another using a for loop.\n"
   ]
  },
  {
   "cell_type": "code",
   "execution_count": 5,
   "metadata": {},
   "outputs": [
    {
     "name": "stdout",
     "output_type": "stream",
     "text": [
      "enter the file nametest1.txt\n",
      "Write some content in fileThis is my first python course\n",
      "The content This is my first python course is written\n",
      "enter the file name to copy:test2.txt\n",
      "copied\n"
     ]
    }
   ],
   "source": [
    "a=input(\"enter the file name\")\n",
    "f1=open(a,\"w\")\n",
    "c=input(\"Write some content in file\")\n",
    "f1.write(c)\n",
    "f1.close()\n",
    "f1=open(a,\"r\")\n",
    "s=f1.read()\n",
    "print(\"The content\",s,\"is written\")\n",
    "b=input(\"enter the file name to copy:\")\n",
    "f2=open(b,\"w\")\n",
    "f2.write(s)\n",
    "print(\"copied\")\n",
    "f2.close()\n",
    "f1.close()"
   ]
  },
  {
   "cell_type": "markdown",
   "metadata": {},
   "source": [
    "Question 2:Write a Python program to find maximum and minimum values in the dictionary. Do not use built-in min\n",
    "and max functions."
   ]
  },
  {
   "cell_type": "code",
   "execution_count": 29,
   "metadata": {},
   "outputs": [
    {
     "name": "stdout",
     "output_type": "stream",
     "text": [
      "The minimum value in dict is\n",
      "['raji']\n",
      "The maximum value in dict is\n",
      "['learn']\n"
     ]
    }
   ],
   "source": [
    "d={'raji':4,'python':6,'learn':9}\n",
    "print(\"The minimum value in dict is\")\n",
    "print([x for x in d if all(d[val]>=d[x] for val in d)])\n",
    "print(\"The maximum value in dict is\")\n",
    "print([x for x in d if all(d[val]<=d[x] for val in d)])"
   ]
  }
 ],
 "metadata": {
  "kernelspec": {
   "display_name": "Python 3",
   "language": "python",
   "name": "python3"
  },
  "language_info": {
   "codemirror_mode": {
    "name": "ipython",
    "version": 3
   },
   "file_extension": ".py",
   "mimetype": "text/x-python",
   "name": "python",
   "nbconvert_exporter": "python",
   "pygments_lexer": "ipython3",
   "version": "3.6.5"
  }
 },
 "nbformat": 4,
 "nbformat_minor": 2
}
