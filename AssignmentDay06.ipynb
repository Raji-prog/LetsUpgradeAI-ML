{
 "cells": [
  {
   "cell_type": "markdown",
   "metadata": {},
   "source": [
    "Question 1 :\n",
    "Assuming that we have some email addresses in the \"username@companyname.com\" format, please\n",
    "write a program to print the company name of a given email address. Both user names and company\n",
    "names are composed of letters only."
   ]
  },
  {
   "cell_type": "code",
   "execution_count": 18,
   "metadata": {},
   "outputs": [
    {
     "name": "stdout",
     "output_type": "stream",
     "text": [
      "raji@yahoo.com\n",
      "yahoo"
     ]
    }
   ],
   "source": [
    "s=input()\n",
    "id=s.index('@')\n",
    "for i in range(id+1,len(s)):\n",
    "    if s[i]=='.':\n",
    "        break\n",
    "    print(s[i],end=\"\")"
   ]
  },
  {
   "cell_type": "markdown",
   "metadata": {},
   "source": [
    "Question 2:Write a program that accepts a comma-separated sequence of words as input and prints the words in a\n",
    "comma-separated sequence after sorting them alphabetically."
   ]
  },
  {
   "cell_type": "code",
   "execution_count": 8,
   "metadata": {},
   "outputs": [
    {
     "name": "stdout",
     "output_type": "stream",
     "text": [
      "program,money,on,learn\n",
      "learn,money,on,program\n"
     ]
    }
   ],
   "source": [
    "a=input()\n",
    "a=a.split(\",\")\n",
    "a=sorted(a)\n",
    "print(\",\".join(a))"
   ]
  },
  {
   "cell_type": "markdown",
   "metadata": {},
   "source": [
    "Question 4:Given a list of n-1 numbers ranging from 1 to n, your task is to find the missing number. There are no\n",
    "duplicates."
   ]
  },
  {
   "cell_type": "code",
   "execution_count": 16,
   "metadata": {},
   "outputs": [
    {
     "name": "stdout",
     "output_type": "stream",
     "text": [
      "[3, 7]\n"
     ]
    }
   ],
   "source": [
    "def miss(l):\n",
    "    return[x for x in range(l[0],l[-1]+1) if x not in l]\n",
    "l=[1,2,4,6,5,8]\n",
    "print(miss(l))"
   ]
  },
  {
   "cell_type": "markdown",
   "metadata": {},
   "source": [
    "Question 5:\n",
    "With a given list L, write a program to print this list L after removing all duplicate values with original order\n",
    "reserved."
   ]
  },
  {
   "cell_type": "code",
   "execution_count": 5,
   "metadata": {},
   "outputs": [
    {
     "name": "stdout",
     "output_type": "stream",
     "text": [
      "After removing the duplicate the output is ['r', 'a', 'j', 'i']\n",
      "After removing the duplicate the output is [1, 4, 8, 9, 2]\n"
     ]
    }
   ],
   "source": [
    "l=[1,4,8,9,2,8,4,1]\n",
    "l2=[\"r\",\"a\",\"j\",\"a\",\"i\",\"r\"]\n",
    "l=list(dict.fromkeys(l))\n",
    "l2=list(dict.fromkeys(l2))\n",
    "print(\"After removing the duplicate the output is\", l2)\n",
    "print(\"After removing the duplicate the output is\",l)"
   ]
  }
 ],
 "metadata": {
  "kernelspec": {
   "display_name": "Python 3",
   "language": "python",
   "name": "python3"
  },
  "language_info": {
   "codemirror_mode": {
    "name": "ipython",
    "version": 3
   },
   "file_extension": ".py",
   "mimetype": "text/x-python",
   "name": "python",
   "nbconvert_exporter": "python",
   "pygments_lexer": "ipython3",
   "version": "3.6.5"
  }
 },
 "nbformat": 4,
 "nbformat_minor": 2
}
