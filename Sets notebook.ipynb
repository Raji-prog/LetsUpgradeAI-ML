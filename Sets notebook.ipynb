{
 "cells": [
  {
   "cell_type": "markdown",
   "metadata": {},
   "source": [
    "# Sets in Python\n"
   ]
  },
  {
   "cell_type": "markdown",
   "metadata": {},
   "source": [
    "## Definition:"
   ]
  },
  {
   "cell_type": "markdown",
   "metadata": {},
   "source": [
    "A set is a collection of unordered and un indexed.\n",
    "In sets we use curley brackets {} to enclosed variables.\n",
    "It has no duplicate elements.\n",
    "The iterables are mutable in sets.\n",
    "Since sets are unordered, we cannot access items using indexes like we do in lists."
   ]
  },
  {
   "cell_type": "code",
   "execution_count": 3,
   "metadata": {},
   "outputs": [
    {
     "name": "stdout",
     "output_type": "stream",
     "text": [
      "{'raji', 'python', 'learn'}\n"
     ]
    }
   ],
   "source": [
    "#Creation of set\n",
    "s={\"raji\",\"learn\",\"python\"}\n",
    "print(s)"
   ]
  },
  {
   "cell_type": "code",
   "execution_count": 4,
   "metadata": {},
   "outputs": [
    {
     "name": "stdout",
     "output_type": "stream",
     "text": [
      "{1, 2, 3, 4}\n"
     ]
    }
   ],
   "source": [
    "s={1,2,3,3,4}\n",
    "print(s)"
   ]
  },
  {
   "cell_type": "code",
   "execution_count": 13,
   "metadata": {},
   "outputs": [
    {
     "name": "stdout",
     "output_type": "stream",
     "text": [
      "is\n",
      "platform\n",
      "this\n",
      "best\n"
     ]
    }
   ],
   "source": [
    "x={\"this\",\"is\",\"best\",\"platform\"}\n",
    "for a in x:\n",
    "    print(a)"
   ]
  },
  {
   "cell_type": "code",
   "execution_count": 20,
   "metadata": {},
   "outputs": [
    {
     "name": "stdout",
     "output_type": "stream",
     "text": [
      "True\n",
      "False\n",
      "False\n",
      "True\n"
     ]
    }
   ],
   "source": [
    "#To check if the word is present or not\n",
    "x={\"car\",\"bag\",\"tools\"}\n",
    "print(\"car\" in x)\n",
    "print(\"wall\" in x)\n",
    "print(\"tools\" not in x)\n",
    "print(\"bike\" not in x)"
   ]
  },
  {
   "cell_type": "code",
   "execution_count": 21,
   "metadata": {},
   "outputs": [
    {
     "name": "stdout",
     "output_type": "stream",
     "text": [
      "{'deer', 'cat', 'rabbit', 'dog'}\n"
     ]
    }
   ],
   "source": [
    "#Add items\n",
    "y={\"cat\",\"dog\",\"rabbit\"}\n",
    "y.add(\"deer\")\n",
    "print(y)"
   ]
  },
  {
   "cell_type": "code",
   "execution_count": 46,
   "metadata": {},
   "outputs": [
    {
     "name": "stdout",
     "output_type": "stream",
     "text": [
      "['vijay', 'atharva', 'ajith', 'simbu', 'dhanush', 'rajini']\n"
     ]
    }
   ],
   "source": [
    "#Add multiple items in a set\n",
    "y={\"rajini\",\"ajith\",\"vijay\"}\n",
    "y.update([\"simbu\",\"dhanush\",\"atharva\"])\n",
    "print(list(y))"
   ]
  },
  {
   "cell_type": "code",
   "execution_count": 30,
   "metadata": {},
   "outputs": [
    {
     "name": "stdout",
     "output_type": "stream",
     "text": [
      "4\n"
     ]
    }
   ],
   "source": [
    "#To know about the length of the item\n",
    "print(len({\"car\",\"bike\",\"flight\",\"train\"}))"
   ]
  },
  {
   "cell_type": "code",
   "execution_count": 40,
   "metadata": {},
   "outputs": [
    {
     "name": "stdout",
     "output_type": "stream",
     "text": [
      "{'m416', 'awm', 'akm'}\n"
     ]
    }
   ],
   "source": [
    "#To remove an item in a set\n",
    "t={\"akm\",\"scarl\",\"m416\",\"awm\"}\n",
    "t.remove(\"scarl\")\n",
    "print(t)"
   ]
  },
  {
   "cell_type": "code",
   "execution_count": 44,
   "metadata": {},
   "outputs": [
    {
     "name": "stdout",
     "output_type": "stream",
     "text": [
      "{'scarl', 'm416', 'awm', 'akm'}\n"
     ]
    }
   ],
   "source": [
    "#Remove an item using discard()\n",
    "t={\"akm\",\"scarl\",\"m416\",\"awm\"}\n",
    "t.discard(\"m762\")\n",
    "print(t)"
   ]
  },
  {
   "cell_type": "code",
   "execution_count": 48,
   "metadata": {},
   "outputs": [
    {
     "name": "stdout",
     "output_type": "stream",
     "text": [
      "{'123', '9887'}\n"
     ]
    }
   ],
   "source": [
    "#To remove using pop() method\n",
    "x={\"123\",\"233\",\"9887\"}\n",
    "x.pop()\n",
    "print(x)"
   ]
  },
  {
   "cell_type": "code",
   "execution_count": 49,
   "metadata": {},
   "outputs": [
    {
     "name": "stdout",
     "output_type": "stream",
     "text": [
      "set()\n"
     ]
    }
   ],
   "source": [
    "#To empties the set\n",
    "x={\"car\",\"bike\",\"train\"}\n",
    "x.clear()\n",
    "print(x)"
   ]
  },
  {
   "cell_type": "code",
   "execution_count": 56,
   "metadata": {},
   "outputs": [
    {
     "ename": "NameError",
     "evalue": "name 'x' is not defined",
     "output_type": "error",
     "traceback": [
      "\u001b[1;31m---------------------------------------------------------------------------\u001b[0m",
      "\u001b[1;31mNameError\u001b[0m                                 Traceback (most recent call last)",
      "\u001b[1;32m<ipython-input-56-10686e4d396c>\u001b[0m in \u001b[0;36m<module>\u001b[1;34m()\u001b[0m\n\u001b[0;32m      2\u001b[0m \u001b[0mx\u001b[0m\u001b[1;33m=\u001b[0m\u001b[1;33m{\u001b[0m\u001b[1;34m\"car\"\u001b[0m\u001b[1;33m,\u001b[0m\u001b[1;34m\"bike\"\u001b[0m\u001b[1;33m,\u001b[0m\u001b[1;34m\"train\"\u001b[0m\u001b[1;33m}\u001b[0m\u001b[1;33m\u001b[0m\u001b[0m\n\u001b[0;32m      3\u001b[0m \u001b[1;32mdel\u001b[0m \u001b[0mx\u001b[0m\u001b[1;33m\u001b[0m\u001b[0m\n\u001b[1;32m----> 4\u001b[1;33m \u001b[0mprint\u001b[0m \u001b[1;33m(\u001b[0m\u001b[0mx\u001b[0m\u001b[1;33m)\u001b[0m\u001b[1;33m\u001b[0m\u001b[0m\n\u001b[0m",
      "\u001b[1;31mNameError\u001b[0m: name 'x' is not defined"
     ]
    }
   ],
   "source": [
    "#To delete the set completely\n",
    "x={\"car\",\"bike\",\"train\"}\n",
    "del x \n",
    "print (x)"
   ]
  },
  {
   "cell_type": "code",
   "execution_count": 57,
   "metadata": {},
   "outputs": [
    {
     "name": "stdout",
     "output_type": "stream",
     "text": [
      "{'bike', 'boat', 'cycle', 'car', 'flight', 'train'}\n"
     ]
    }
   ],
   "source": [
    "#To join two sets\n",
    "x={\"car\",\"bike\",\"train\"}\n",
    "y={\"flight\",\"cycle\",\"boat\"}\n",
    "t=x.union(y)\n",
    "print(t)"
   ]
  },
  {
   "cell_type": "code",
   "execution_count": 59,
   "metadata": {},
   "outputs": [
    {
     "name": "stdout",
     "output_type": "stream",
     "text": [
      "{'bike', 'boat', 'cycle', 'car', 'flight', 'train'}\n"
     ]
    }
   ],
   "source": [
    "#Using update()\n",
    "x={\"car\",\"bike\",\"train\"}\n",
    "y={\"flight\",\"cycle\",\"boat\"}\n",
    "t=x.update(y)\n",
    "print(x)"
   ]
  },
  {
   "cell_type": "code",
   "execution_count": 60,
   "metadata": {},
   "outputs": [
    {
     "name": "stdout",
     "output_type": "stream",
     "text": [
      "('Thanks', 'for', 'help')\n"
     ]
    }
   ],
   "source": [
    "j=((\"Thanks\",\"for\",\"help\"))\n",
    "print(j)"
   ]
  }
 ],
 "metadata": {
  "kernelspec": {
   "display_name": "Python 3",
   "language": "python",
   "name": "python3"
  },
  "language_info": {
   "codemirror_mode": {
    "name": "ipython",
    "version": 3
   },
   "file_extension": ".py",
   "mimetype": "text/x-python",
   "name": "python",
   "nbconvert_exporter": "python",
   "pygments_lexer": "ipython3",
   "version": "3.6.5"
  }
 },
 "nbformat": 4,
 "nbformat_minor": 2
}
